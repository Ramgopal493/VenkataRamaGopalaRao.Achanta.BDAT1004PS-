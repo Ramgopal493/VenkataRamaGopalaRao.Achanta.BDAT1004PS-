{
 "cells": [
  {
   "cell_type": "markdown",
   "id": "a90d9168",
   "metadata": {},
   "source": [
    "Q1. What data type is each of the following ?\n",
    "\n",
    "5 - Integer\n",
    "\n",
    "5.0 - Float\n",
    "\n",
    "5>1 - Boolean\n",
    "\n",
    "'5' - Character\n",
    "\n",
    "5*2 - Integer \n",
    "\n",
    "'5'*2 - String\n",
    "\n",
    "'5'+'2' - String\n",
    "\n",
    "5/2 - Float\n",
    "\n",
    "5%2 - Integer\n",
    "\n",
    "{5,2,1} - Set\n",
    "\n",
    "5 == 3 - Boolean\n",
    "\n",
    "Pi(the number) - Double"
   ]
  },
  {
   "cell_type": "markdown",
   "id": "2e895c7d",
   "metadata": {},
   "source": [
    "Q2. Write (and evaluate) C# expressions that answer these question:\n",
    "\n",
    " a. How many letters are there in 'Supercalifragilisticexpialidocious'?"
   ]
  },
  {
   "cell_type": "code",
   "execution_count": 17,
   "id": "d4f794ad",
   "metadata": {},
   "outputs": [
    {
     "name": "stdout",
     "output_type": "stream",
     "text": [
      "Length of Supercalifragilisticexpialidociousis :34\r\n"
     ]
    }
   ],
   "source": [
    "String word1=\"Supercalifragilisticexpialidocious\";\n",
    "Console.WriteLine(\"Length of \"+word1+\"is :\"+word1.Length); "
   ]
  },
  {
   "cell_type": "code",
   "execution_count": null,
   "id": "92b4c896",
   "metadata": {},
   "outputs": [],
   "source": [
    "b.Does 'Supercalifragilisticexpialidocious' contain 'ice' as a substring?"
   ]
  },
  {
   "cell_type": "code",
   "execution_count": 16,
   "id": "4c6590ef",
   "metadata": {},
   "outputs": [
    {
     "name": "stdout",
     "output_type": "stream",
     "text": [
      "Given string Supercalifragilisticexpialidocious contains ice as substring :True\r\n"
     ]
    }
   ],
   "source": [
    "Console.WriteLine(\"Given string \"+word1+\" contains ice as substring :\"+word1.Contains(\"ice\"));\n"
   ]
  },
  {
   "cell_type": "markdown",
   "id": "effc9c2d",
   "metadata": {},
   "source": [
    "C.Which of the following words is the longest:\n",
    "\n",
    "Supercalifragilisticexpialidocious, Honorificabilitudinitatibus, or Bababadalgharaghtakamminarronnkonn?"
   ]
  },
  {
   "cell_type": "code",
   "execution_count": 11,
   "id": "88e4f027",
   "metadata": {},
   "outputs": [
    {
     "name": "stdout",
     "output_type": "stream",
     "text": [
      "The longest word among 3 words are: Supercalifragilisticexpialidocious , Bababadalgharaghtakamminarronnkonn\r\n"
     ]
    }
   ],
   "source": [
    "String word1=\"Supercalifragilisticexpialidocious\";\n",
    "String word2=\"Honorificabilitudinitatibus\";\n",
    "String word3=\"Bababadalgharaghtakamminarronnkonn\";\n",
    "if(word1.Length>word2.Length) //checks if length of word1 is greater than word2\n",
    "{\n",
    "    if(word1.Length>word3.Length)\n",
    "    {\n",
    "        Console.WriteLine(\"The longest word among 3 words is: \"+ word1); \n",
    "    }\n",
    "    else if(word1.Length==word3.Length)\n",
    "    {\n",
    "        Console.WriteLine(\"The longest word among 3 words are: \"+ word1+\" , \"+word3);\n",
    "    }\n",
    "    else\n",
    "    {\n",
    "        Console.WriteLine(\"The longest word among 3 words is: \"+ word3);\n",
    "    }\n",
    "}\n",
    "else\n",
    "{\n",
    "    Console.WriteLine(\"The longest word among 3 words is: \"+ word2);\n",
    "}"
   ]
  },
  {
   "cell_type": "code",
   "execution_count": null,
   "id": "0d9b384f",
   "metadata": {},
   "outputs": [],
   "source": [
    "d.Which composer comes first in the dictionary:'Berlioz','Borodin','Brian','Bartok','Bellini','Buxtehude','Bernstein'.Which one comes last ?"
   ]
  },
  {
   "cell_type": "code",
   "execution_count": 15,
   "id": "623e7032",
   "metadata": {},
   "outputs": [
    {
     "name": "stdout",
     "output_type": "stream",
     "text": [
      "First word is: Bartok\n",
      "Last word is: Buxtehude\n"
     ]
    }
   ],
   "source": [
    "String[] composer={\"Berlioz\", \"Borodin\", \"Brian\", \"Bartok\", \"Bellini\", \"Buxtehude\", \"Bernstein\"};\n",
    "Array.Sort(composer);\n",
    "Console.WriteLine(\"First word is: \"+ composer[0]); // prints the composer which comes first \n",
    "Console.WriteLine(\"Last word is: \"+ composer[composer.Length-1]);\n"
   ]
  },
  {
   "cell_type": "markdown",
   "id": "2c7b177a",
   "metadata": {},
   "source": [
    "3.Implement function triangleArea(a,b,c) that takes as input the lengths of the 3 sides of a triangle and returns the area of the triangle.By Heron's formula,the area of a triangle with side lengths a,b, and c is square root of s(s-a)(s-b)(s-c), where s=(a+b+c)/2."
   ]
  },
  {
   "cell_type": "code",
   "execution_count": null,
   "id": "2dbeafa6",
   "metadata": {},
   "outputs": [],
   "source": []
  },
  {
   "cell_type": "markdown",
   "id": "05461d72",
   "metadata": {},
   "source": [
    "4.Write a program in C# Sharp to seperate odd and even integers in separate arrays."
   ]
  },
  {
   "cell_type": "code",
   "execution_count": 14,
   "id": "b49104f3",
   "metadata": {},
   "outputs": [
    {
     "name": "stderr",
     "output_type": "stream",
     "text": [
      "\r\n",
      "(13,39): error CS0117: 'Console' does not contain a definition for 'Readline'\r\n",
      "\r\n",
      "(19,49): error CS0117: 'Console' does not contain a definition for 'Readline'\r\n",
      "\r\n"
     ]
    },
    {
     "ename": "Cell not executed",
     "evalue": "compilation error",
     "output_type": "error",
     "traceback": []
    }
   ],
   "source": [
    "using System;\n",
    "\n",
    "public class Program\n",
    "{\n",
    "    public static void Main(string[] args)\n",
    "    {\n",
    "       int[] arr1= new int[10];\n",
    "       int[] arr2= new int[10];\n",
    "       int[] arr3= new int[10];\n",
    "       int i, j=0, k=0, n;\n",
    "       \n",
    "           Console.Write(\"Input the number of elements to be stored in the array:\");\n",
    "           n= Convert.ToInt32(Console.Readline());\n",
    "           \n",
    "           Console.Write(\"Input{0} elements in the array:\\n\",n);\n",
    "           for (i=0;i<n;i++)\n",
    "           {\n",
    "               Console.Write(\"element-{0}:\",i);\n",
    "               arr1[i]= Convert.ToInt32(Console.Readline());\n",
    "               \n",
    "           }\n",
    "        for(i=0;i<n;i++)\n",
    "        {\n",
    "            if (arr1[i]%2==0)\n",
    "            {\n",
    "                arr2[j]=arr1[i];\n",
    "                j++;\n",
    "            }\n",
    "            else\n",
    "            {\n",
    "                arr3[k]=arr1[i];\n",
    "                k++;\n",
    "            }\n",
    "        }\n",
    "        Console.Write(\"\\nThe Even elements are:\\n\");\n",
    "        for (i=0;i<j;i++)\n",
    "        {\n",
    "            Console.Write(\"{0}\",arr2[i]);\n",
    "        }\n",
    "        Console.Write(\"\\nThe odd elements are:\\n\");\n",
    "        for (i=0;i<k;i++);\n",
    "        {\n",
    "            Console.Write(\"{0}\", arr3[i]);\n",
    "        }\n",
    "        Console.Write(\"\\n\\n\");\n",
    " }\n",
    "}"
   ]
  },
  {
   "cell_type": "markdown",
   "id": "d44ed3da",
   "metadata": {},
   "source": [
    "5.\n",
    " a. Write a function inside(x,y,x1,y1,x2,y2) that returns True or False depending on whether the point (x,y) lies in the rectangle with lower left corner (x1,y1) and upper right corner (x2,y2).\n",
    " b. Use function inside() from part a. to write an expression that tests weather the point (1,1) lies in both of the following rectangles: one with lower left corner (0.3,0.5) and upper right corner(1.1,0.7)and the other with lower left corner(0.5,0.2) and upper right corner(1.1,2)."
   ]
  },
  {
   "cell_type": "code",
   "execution_count": 12,
   "id": "f6ca3a0a",
   "metadata": {},
   "outputs": [
    {
     "name": "stdout",
     "output_type": "stream",
     "text": [
      "True\n",
      "False\n"
     ]
    }
   ],
   "source": [
    "class Rectangle\n",
    "{\n",
    "    public Boolean inside(double x,double y,double x1,double y1,double x2,double y2)\n",
    "    {\n",
    "        if(x1<x && y1<y)\n",
    "        {\n",
    "            if(x<x2 && y<y2)\n",
    "            {\n",
    "                return true;\n",
    "            }\n",
    "            else\n",
    "            {\n",
    "                return false;\n",
    "            }\n",
    "        }\n",
    "        else\n",
    "            return false;\n",
    "    }\n",
    "}\n",
    "\n",
    "Rectangle r=new Rectangle();\n",
    "Console.WriteLine(r.inside(1,1,0,0,2,3));\n",
    "Console.WriteLine(r.inside(-1,-1,0,0,2,3)); "
   ]
  },
  {
   "cell_type": "code",
   "execution_count": 13,
   "id": "cc8f70c8",
   "metadata": {},
   "outputs": [
    {
     "name": "stdout",
     "output_type": "stream",
     "text": [
      "False\r\n"
     ]
    }
   ],
   "source": [
    "if((r.inside(1,1,0.3,0.5,1.1,0.7)) && (r.inside(1,1,0.5,0.2,1.1,2)))\n",
    "{\n",
    "    Console.WriteLine(\"True\");\n",
    "}\n",
    "else\n",
    "{\n",
    "    Console.WriteLine(\"False\");\n",
    "}"
   ]
  },
  {
   "cell_type": "code",
   "execution_count": null,
   "id": "b8699621",
   "metadata": {},
   "outputs": [],
   "source": []
  }
 ],
 "metadata": {
  "kernelspec": {
   "display_name": ".NET (C#)",
   "language": "C#",
   "name": ".net-csharp"
  },
  "language_info": {
   "file_extension": ".cs",
   "mimetype": "text/x-csharp",
   "name": "C#",
   "pygments_lexer": "csharp",
   "version": "10.0"
  }
 },
 "nbformat": 4,
 "nbformat_minor": 5
}
