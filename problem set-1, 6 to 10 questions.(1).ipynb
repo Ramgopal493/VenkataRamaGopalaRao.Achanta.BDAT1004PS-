{
 "cells": [
  {
   "cell_type": "markdown",
   "id": "34ba1bc0",
   "metadata": {},
   "source": [
    "6.Write a funtion pig() that takes a word(i.e; a string) as input and returns it's pig-Latin form.Your function should still work if the input word contains upper case characters.Your output should always be lower case however."
   ]
  },
  {
   "cell_type": "code",
   "execution_count": 1,
   "id": "c0d5f7e5",
   "metadata": {},
   "outputs": [
    {
     "name": "stdout",
     "output_type": "stream",
     "text": [
      "Convert message to pig latin: Venkata Rama\n",
      "enkatavay atavenkay atavenkay amaray amaray\n"
     ]
    }
   ],
   "source": [
    "pigLatin = input(\"Convert message to pig latin: \")\n",
    "wordList = pigLatin.lower().split(\" \")\n",
    "vowels = ['a', 'e', 'i', 'o', 'u']\n",
    "pigLatin = []\n",
    "eachWord = []\n",
    "for word in wordList:\n",
    "    if word[0] in 'aeiou': #case where vowel is first\n",
    "        pigLatin.append(word + 'yay')\n",
    "    if word[0] not in 'aeiou':\n",
    "        for letter in word:\n",
    "            if letter in 'aeiou':\n",
    "                pigLatin.append(word[word.index(letter):] + word[:word.index(letter)] +'ay')\n",
    "print(\" \".join(pigLatin))\n"
   ]
  },
  {
   "cell_type": "markdown",
   "id": "b01098ee",
   "metadata": {},
   "source": [
    "7.File bloodtype1.txt records blood-types of patients (A,B,AB,O or OO) at a clinic.Write a function bldcount() that reads the file with name name and reports (i.e;prints) how many patients there are in each bloodtype."
   ]
  },
  {
   "cell_type": "code",
   "execution_count": 12,
   "id": "e35621e2",
   "metadata": {},
   "outputs": [
    {
     "name": "stdout",
     "output_type": "stream",
     "text": [
      "Enter your blood type: A\n",
      "A A A A A A\n",
      "A A A A A A\n",
      "A A A A A A\n",
      "A A A A A A\n",
      "A A A A A A\n",
      "A A A A A A\n"
     ]
    }
   ],
   "source": [
    "x = input(\"Enter your blood type: \")\n",
    "if x == 'O':\n",
    "    for y in range(6):\n",
    "        print(\"O O O O O O\")\n",
    "elif x == 'A':\n",
    "    for y in range(6):\n",
    "        print(\"A A A A A A\")\n",
    "elif x == 'B':\n",
    "    for y in range(6):\n",
    "        print(\"B B B B B B\")\n",
    "elif x == 'AB':\n",
    "    for y in range(3):\n",
    "        print(\"AB AB AB\")\n",
    "else:\n",
    "    print(\"N/A blood type! Are you alien?\")\n"
   ]
  },
  {
   "cell_type": "markdown",
   "id": "8c08500e",
   "metadata": {},
   "source": [
    "8. Write a function curconv() that takes as input:\n",
    "1. a currency represented using a string (eg;'JPY' for the Japanese Yen or 'EUR' for the Euro)\n",
    "2. an amount and then converts and returns the amount in US dollars."
   ]
  },
  {
   "cell_type": "code",
   "execution_count": 15,
   "id": "3e8376af",
   "metadata": {},
   "outputs": [
    {
     "ename": "FileNotFoundError",
     "evalue": "[Errno 2] No such file or directory: 'currenciesdata.txt'",
     "output_type": "error",
     "traceback": [
      "\u001b[1;31m---------------------------------------------------------------------------\u001b[0m",
      "\u001b[1;31mFileNotFoundError\u001b[0m                         Traceback (most recent call last)",
      "Input \u001b[1;32mIn [15]\u001b[0m, in \u001b[0;36m<cell line: 12>\u001b[1;34m()\u001b[0m\n\u001b[0;32m      9\u001b[0m             value \u001b[38;5;241m=\u001b[39m amount \u001b[38;5;241m*\u001b[39m rate\n\u001b[0;32m     10\u001b[0m     \u001b[38;5;28mprint\u001b[39m(value)\n\u001b[1;32m---> 12\u001b[0m \u001b[43mcurconv\u001b[49m\u001b[43m(\u001b[49m\u001b[38;5;124;43m'\u001b[39;49m\u001b[38;5;124;43mEUR\u001b[39;49m\u001b[38;5;124;43m'\u001b[39;49m\u001b[43m,\u001b[49m\u001b[38;5;241;43m100\u001b[39;49m\u001b[43m)\u001b[49m\n\u001b[0;32m     13\u001b[0m curconv(\u001b[38;5;124m'\u001b[39m\u001b[38;5;124mJPY\u001b[39m\u001b[38;5;124m'\u001b[39m,\u001b[38;5;241m100\u001b[39m)\n",
      "Input \u001b[1;32mIn [15]\u001b[0m, in \u001b[0;36mcurconv\u001b[1;34m(currency, amount)\u001b[0m\n\u001b[0;32m      1\u001b[0m \u001b[38;5;28;01mdef\u001b[39;00m \u001b[38;5;21mcurconv\u001b[39m(currency,amount):\n\u001b[1;32m----> 2\u001b[0m     file \u001b[38;5;241m=\u001b[39m \u001b[38;5;28;43mopen\u001b[39;49m\u001b[43m(\u001b[49m\u001b[38;5;124;43m\"\u001b[39;49m\u001b[38;5;124;43mcurrenciesdata.txt\u001b[39;49m\u001b[38;5;124;43m\"\u001b[39;49m\u001b[43m,\u001b[49m\u001b[38;5;124;43m\"\u001b[39;49m\u001b[38;5;124;43mr\u001b[39;49m\u001b[38;5;124;43m\"\u001b[39;49m\u001b[43m)\u001b[49m\n\u001b[0;32m      3\u001b[0m     fileRead \u001b[38;5;241m=\u001b[39m file\u001b[38;5;241m.\u001b[39mreadlines()\n\u001b[0;32m      4\u001b[0m     file\u001b[38;5;241m.\u001b[39mclose()\n",
      "\u001b[1;31mFileNotFoundError\u001b[0m: [Errno 2] No such file or directory: 'currenciesdata.txt'"
     ]
    }
   ],
   "source": [
    "def curconv(currency,amount):\n",
    "    file = open(\"currenciesdata.txt\",\"r\")\n",
    "    fileRead = file.readlines()\n",
    "    file.close()\n",
    "    for file in fileRead :\n",
    "        group = file.split()\n",
    "        if currency == group[0]:\n",
    "            rate = float(group[1])\n",
    "            value = amount * rate\n",
    "    print(value)\n",
    "    \n",
    "curconv('EUR',100)\n",
    "curconv('JPY',100)"
   ]
  },
  {
   "cell_type": "markdown",
   "id": "b877ece5",
   "metadata": {},
   "source": []
  },
  {
   "cell_type": "markdown",
   "id": "8b0643a0",
   "metadata": {},
   "source": [
    "9.Each of the following will cause an exception (an error).Identify what type of exception each will cause."
   ]
  },
  {
   "cell_type": "markdown",
   "id": "37360cda",
   "metadata": {},
   "source": [
    "Trying to add incomplete variable, as in adding 6 + 'a' - TypeError\n",
    "\n",
    "Referring to the 12th item of a list that has only 10 items - indexError\n",
    "\n",
    "Using a value that is out of range for a function's inout, such as calling math.sqrt(-1,0) - ValueError\n",
    "\n",
    "Trying to open a file that does not exist, such as mistyping the file name or looking in the wrong directory -FileNotFoundError"
   ]
  },
  {
   "cell_type": "markdown",
   "id": "30d56276",
   "metadata": {},
   "source": [
    "10.Assume that the string letters is alrready defined as 'abcdefghijklmnopqrstuvwxyz'.Write a function called frequencies() that takes a string as its only parameter, and returns a list of integers, showing the number of times each character appears in the text.Your function may ignore any characters that are not in letters."
   ]
  },
  {
   "cell_type": "code",
   "execution_count": 2,
   "id": "fa738da8",
   "metadata": {},
   "outputs": [
    {
     "name": "stdout",
     "output_type": "stream",
     "text": [
      "Count of all characters in Venkata Rama Gopala  is :\n",
      " {'V': 1, 'e': 1, 'n': 1, 'k': 1, 'a': 6, 't': 1, ' ': 2, 'R': 1, 'm': 1, 'G': 1, 'o': 1, 'p': 1, 'l': 1}\n"
     ]
    }
   ],
   "source": [
    "# Python3 code to demonstrate\n",
    "# each occurrence frequency using\n",
    "# naive method\n",
    "\n",
    "# initializing string\n",
    "test_str = \"Venkata Rama Gopala\"\n",
    "\n",
    "# using naive method to get count\n",
    "# of each element in string\n",
    "all_freq = {}\n",
    "\n",
    "for i in test_str:\n",
    "    if i in all_freq:\n",
    "        all_freq[i] += 1\n",
    "    else:\n",
    "        all_freq[i] = 1\n",
    "\n",
    "# printing result\n",
    "print (\"Count of all characters in Venkata Rama Gopala  is :\\n \"\n",
    "                                        + str(all_freq))\n",
    "\n"
   ]
  },
  {
   "cell_type": "code",
   "execution_count": null,
   "id": "1d97fad0",
   "metadata": {},
   "outputs": [],
   "source": []
  }
 ],
 "metadata": {
  "kernelspec": {
   "display_name": "Python 3 (ipykernel)",
   "language": "python",
   "name": "python3"
  },
  "language_info": {
   "codemirror_mode": {
    "name": "ipython",
    "version": 3
   },
   "file_extension": ".py",
   "mimetype": "text/x-python",
   "name": "python",
   "nbconvert_exporter": "python",
   "pygments_lexer": "ipython3",
   "version": "3.9.12"
  }
 },
 "nbformat": 4,
 "nbformat_minor": 5
}
